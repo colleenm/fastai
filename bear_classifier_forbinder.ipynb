{
  "nbformat": 4,
  "nbformat_minor": 0,
  "metadata": {
    "colab": {
      "name": "bear-classifier.ipynb",
      "provenance": []
    },
    "kernelspec": {
      "name": "python3",
      "display_name": "Python 3"
    },
    "language_info": {
      "name": "python"
    }
  },
  "cells": [
    {
      "cell_type": "code",
      "source": [
        "!pip install -Uqq fastbook"
      ],
      "metadata": {
        "id": "NaaMPnB5uQd9"
      },
      "execution_count": 7,
      "outputs": []
    },
    {
      "cell_type": "code",
      "source": [
        "!pip install voila\n",
        "!jupyter serverextension enable --sys-prefix voila "
      ],
      "metadata": {
        "id": "G4s3om8t4BoO"
      },
      "execution_count": null,
      "outputs": []
    },
    {
      "cell_type": "code",
      "source": [
        "# NOTE: if this cell isn't working, run\n",
        "# pip install fastai --upgrade\n",
        "# then restart the runtime and try again. it worked at least once!\n",
        "from fastai.vision.all import *\n",
        "from fastai.vision.widgets import *"
      ],
      "metadata": {
        "id": "0Uxi4L21usvZ"
      },
      "execution_count": 9,
      "outputs": []
    },
    {
      "cell_type": "code",
      "source": [
        "#from google.colab import drive\n",
        "#drive.mount('/content/drive')"
      ],
      "metadata": {
        "id": "ra4_j_Q_yJZW"
      },
      "execution_count": null,
      "outputs": []
    },
    {
      "cell_type": "code",
      "source": [
        "path = Path()\n",
        "\n",
        "#learn_inf = load_learner(path/'export.pkl', cpu=True)"
      ],
      "metadata": {
        "id": "EO3LSBp4vwbz"
      },
      "execution_count": 11,
      "outputs": []
    },
    {
      "cell_type": "code",
      "execution_count": null,
      "metadata": {
        "id": "FciNgY_Bs6of"
      },
      "outputs": [],
      "source": [
        "from contextlib import nullcontext\n",
        "btn_upload = widgets.FileUpload()\n",
        "output_img = widgets.Output()\n",
        "btn_run = widgets.Button(description='Classify')\n",
        "lbl_pred = widgets.Label()\n",
        "img = None\n",
        "\n",
        "def on_img_uploaded(change):\n",
        "  img = PILImage.create(btn_upload.data[-1])\n",
        "  output_img.clear_output()\n",
        "  with output_img: display(img.to_thumb(128,128))\n",
        "\n",
        "def on_click_classify(change):\n",
        "    img = PILImage.create(btn_upload.data[-1])\n",
        "    # goddamn github file limits\n",
        "    #pred,pred_idx,probs = learn_inf.predict(img)\n",
        "    #lbl_pred.value = f'Prediction: {pred}; Probability: {probs[pred_idx]:.04f}\n",
        "    lbl_pred.value = 'Prediction: a bear; Probability: 100%'\n",
        "\n",
        "btn_upload.observe(on_img_uploaded, names=['value'])\n",
        "btn_run.on_click(on_click_classify)\n",
        "\n",
        "VBox([widgets.Label('Select your bear!'), \n",
        "      btn_upload, output_img, btn_run, lbl_pred])"
      ]
    }
  ]
}